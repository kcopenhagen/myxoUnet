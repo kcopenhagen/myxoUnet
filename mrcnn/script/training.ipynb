{
 "cells": [
  {
   "cell_type": "markdown",
   "id": "7646af2a",
   "metadata": {},
   "source": [
    "## Training Test Notebook\n",
    "Look at how to better work out training for Mask RCNN models"
   ]
  },
  {
   "cell_type": "code",
   "execution_count": 9,
   "id": "de39d133",
   "metadata": {},
   "outputs": [],
   "source": [
    "# imports\n",
    "import os, sys\n",
    "import json\n",
    "from datetime import date\n",
    "import random\n",
    "\n",
    "sys.path.insert(1, os.path.abspath(\"..\"))\n",
    "sys.path.insert(1, os.path.abspath(os.path.join('..', 'pytv')))\n",
    "from pytv.engine import train_one_epoch, evaluate\n",
    "import pytv.utils as utils\n",
    "\n",
    "from data import MaskRCNNDataset\n",
    "from train import make_new_maskr\n",
    "\n",
    "import torch\n",
    "import torchvision\n",
    "from torchvision.models.detection.faster_rcnn import FastRCNNPredictor\n",
    "from torchvision.models.detection.mask_rcnn import MaskRCNNPredictor"
   ]
  },
  {
   "cell_type": "code",
   "execution_count": 7,
   "id": "ba45f87a",
   "metadata": {},
   "outputs": [
    {
     "name": "stdout",
     "output_type": "stream",
     "text": [
      "using cuda\n"
     ]
    }
   ],
   "source": [
    "# basic setup torch device\n",
    "if torch.cuda.is_available():\n",
    "    device = torch.device(\"cuda\")\n",
    "    print(\"using cuda\")\n",
    "else:\n",
    "    device = torch.device(\"cpu\")\n",
    "    pring(\"using cpu\")\n",
    "# setup datasets\n",
    "DATA_PATH = os.path.join(\"..\", \"..\", \"supp\", \"testkc\")\n",
    "dta_trn = MaskRCNNDataset(DATA_PATH, \"train\", None)\n",
    "train_data = torch.utils.data.DataLoader(dta_trn, batch_size=2, shuffle=True,\n",
    "                                        num_workers=1, collate_fn=utils.collate_fn)\n",
    "dta_tst = MaskRCNNDataset(DATA_PATH, \"test\", None)\n",
    "test_data = torch.utils.data.DataLoader(dta_tst, batch_size=2, shuffle=False,\n",
    "                                       num_workers=1, collate_fn=utils.collate_fn)\n",
    "\n",
    "# make network\n",
    "net = make_new_maskr(n_class=2, hidden_layer=256)\n",
    "net = net.to(device)\n",
    "\n",
    "# setup optimizer\n",
    "params = [p for p in net.parameters() if p.requires_grad]\n",
    "optim = torch.optim.SGD(params, lr=0.005, momentum=0.9,\n",
    "                       weight_decay=0.0005)\n",
    "lr_scheduler = torch.optim.lr_scheduler.StepLR(optim, step_size=3, gamma=0.1)"
   ]
  },
  {
   "cell_type": "code",
   "execution_count": 10,
   "id": "b5a155f0",
   "metadata": {},
   "outputs": [
    {
     "name": "stderr",
     "output_type": "stream",
     "text": [
      "/home/mb46/.conda/envs/pyt/lib/python3.8/site-packages/torch/nn/functional.py:718: UserWarning: Named tensors and all their associated APIs are an experimental feature and subject to change. Please do not use them for anything important until they are released as stable. (Triggered internally at  /opt/conda/conda-bld/pytorch_1623448278899/work/c10/core/TensorImpl.h:1156.)\n",
      "  return torch.max_pool2d(input, kernel_size, stride, padding, dilation, ceil_mode)\n"
     ]
    },
    {
     "name": "stdout",
     "output_type": "stream",
     "text": [
      "Epoch: [0]  [0/2]  eta: 0:00:09  lr: 0.005000  loss: 12.9026 (12.9026)  loss_classifier: 0.7161 (0.7161)  loss_box_reg: 0.5925 (0.5925)  loss_mask: 2.6938 (2.6938)  loss_objectness: 8.2721 (8.2721)  loss_rpn_box_reg: 0.6282 (0.6282)  time: 4.5424  data: 1.9638  max mem: 4676\n",
      "Epoch: [0]  [1/2]  eta: 0:00:02  lr: 0.005000  loss: 12.7793 (12.8410)  loss_classifier: 0.6934 (0.7047)  loss_box_reg: 0.5915 (0.5920)  loss_mask: 2.5784 (2.6361)  loss_objectness: 8.2320 (8.2520)  loss_rpn_box_reg: 0.6282 (0.6561)  time: 2.3639  data: 0.9884  max mem: 5221\n",
      "Epoch: [0] Total time: 0:00:04 (2.3849 s / it)\n"
     ]
    }
   ],
   "source": [
    "# do example training epoch\n",
    "metlog = train_one_epoch(net, optim, train_data, device, 0, print_freq=1)"
   ]
  },
  {
   "cell_type": "code",
   "execution_count": 26,
   "id": "877e6c41",
   "metadata": {},
   "outputs": [
    {
     "data": {
      "text/plain": [
       "{'lr': 0.005,\n",
       " 'loss': 12.779293060302734,\n",
       " 'loss_classifier': 0.693372368812561,\n",
       " 'loss_box_reg': 0.5914664268493652,\n",
       " 'loss_mask': 2.5783638954162598,\n",
       " 'loss_objectness': 8.232001304626465,\n",
       " 'loss_rpn_box_reg': 0.6840900778770447}"
      ]
     },
     "execution_count": 26,
     "metadata": {},
     "output_type": "execute_result"
    }
   ],
   "source": [
    "{k:v.value for k, v in zip(metlog.meters.keys(), metlog.meters.values())}"
   ]
  },
  {
   "cell_type": "code",
   "execution_count": 27,
   "id": "5cc04c5c",
   "metadata": {},
   "outputs": [
    {
     "name": "stdout",
     "output_type": "stream",
     "text": [
      "creating index...\n",
      "index created!\n",
      "Test:  [0/1]  eta: 0:00:02  model_time: 0.0955 (0.0955)  evaluator_time: 2.4437 (2.4437)  time: 2.8053  data: 0.2656  max mem: 5221\n",
      "Test: Total time: 0:00:02 (2.8419 s / it)\n",
      "Averaged stats: model_time: 0.0955 (0.0955)  evaluator_time: 2.4437 (2.4437)\n",
      "Accumulating evaluation results...\n",
      "DONE (t=0.00s).\n",
      "Accumulating evaluation results...\n",
      "DONE (t=0.00s).\n",
      "IoU metric: bbox\n",
      " Average Precision  (AP) @[ IoU=0.50:0.95 | area=   all | maxDets=100 ] = 0.009\n",
      " Average Precision  (AP) @[ IoU=0.50      | area=   all | maxDets=100 ] = 0.050\n",
      " Average Precision  (AP) @[ IoU=0.75      | area=   all | maxDets=100 ] = 0.001\n",
      " Average Precision  (AP) @[ IoU=0.50:0.95 | area= small | maxDets=100 ] = 0.009\n",
      " Average Precision  (AP) @[ IoU=0.50:0.95 | area=medium | maxDets=100 ] = 0.000\n",
      " Average Precision  (AP) @[ IoU=0.50:0.95 | area= large | maxDets=100 ] = -1.000\n",
      " Average Recall     (AR) @[ IoU=0.50:0.95 | area=   all | maxDets=  1 ] = 0.000\n",
      " Average Recall     (AR) @[ IoU=0.50:0.95 | area=   all | maxDets= 10 ] = 0.003\n",
      " Average Recall     (AR) @[ IoU=0.50:0.95 | area=   all | maxDets=100 ] = 0.023\n",
      " Average Recall     (AR) @[ IoU=0.50:0.95 | area= small | maxDets=100 ] = 0.025\n",
      " Average Recall     (AR) @[ IoU=0.50:0.95 | area=medium | maxDets=100 ] = 0.000\n",
      " Average Recall     (AR) @[ IoU=0.50:0.95 | area= large | maxDets=100 ] = -1.000\n",
      "IoU metric: segm\n",
      " Average Precision  (AP) @[ IoU=0.50:0.95 | area=   all | maxDets=100 ] = 0.000\n",
      " Average Precision  (AP) @[ IoU=0.50      | area=   all | maxDets=100 ] = 0.000\n",
      " Average Precision  (AP) @[ IoU=0.75      | area=   all | maxDets=100 ] = 0.000\n",
      " Average Precision  (AP) @[ IoU=0.50:0.95 | area= small | maxDets=100 ] = 0.000\n",
      " Average Precision  (AP) @[ IoU=0.50:0.95 | area=medium | maxDets=100 ] = 0.000\n",
      " Average Precision  (AP) @[ IoU=0.50:0.95 | area= large | maxDets=100 ] = -1.000\n",
      " Average Recall     (AR) @[ IoU=0.50:0.95 | area=   all | maxDets=  1 ] = 0.000\n",
      " Average Recall     (AR) @[ IoU=0.50:0.95 | area=   all | maxDets= 10 ] = 0.000\n",
      " Average Recall     (AR) @[ IoU=0.50:0.95 | area=   all | maxDets=100 ] = 0.000\n",
      " Average Recall     (AR) @[ IoU=0.50:0.95 | area= small | maxDets=100 ] = 0.000\n",
      " Average Recall     (AR) @[ IoU=0.50:0.95 | area=medium | maxDets=100 ] = 0.000\n",
      " Average Recall     (AR) @[ IoU=0.50:0.95 | area= large | maxDets=100 ] = -1.000\n"
     ]
    }
   ],
   "source": [
    "coco = evaluate(net, test_data, device=device)"
   ]
  },
  {
   "cell_type": "code",
   "execution_count": null,
   "id": "97436085",
   "metadata": {},
   "outputs": [],
   "source": []
  }
 ],
 "metadata": {
  "kernelspec": {
   "display_name": "Python 3",
   "language": "python",
   "name": "python3"
  },
  "language_info": {
   "codemirror_mode": {
    "name": "ipython",
    "version": 3
   },
   "file_extension": ".py",
   "mimetype": "text/x-python",
   "name": "python",
   "nbconvert_exporter": "python",
   "pygments_lexer": "ipython3",
   "version": "3.8.10"
  }
 },
 "nbformat": 4,
 "nbformat_minor": 5
}
